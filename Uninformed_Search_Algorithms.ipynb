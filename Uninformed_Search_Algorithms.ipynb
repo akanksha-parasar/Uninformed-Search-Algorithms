{
  "nbformat": 4,
  "nbformat_minor": 0,
  "metadata": {
    "colab": {
      "name": "Uninformed Search Algorithms.ipynb",
      "provenance": [],
      "collapsed_sections": [],
      "authorship_tag": "ABX9TyPEfPvO78/c5N7Js8lyn2j/",
      "include_colab_link": true
    },
    "kernelspec": {
      "name": "python3",
      "display_name": "Python 3"
    },
    "language_info": {
      "name": "python"
    }
  },
  "cells": [
    {
      "cell_type": "markdown",
      "metadata": {
        "id": "view-in-github",
        "colab_type": "text"
      },
      "source": [
        "<a href=\"https://colab.research.google.com/github/akanksha-parasar/Uninformed-Search-Algorithms/blob/main/Uninformed_Search_Algorithms.ipynb\" target=\"_parent\"><img src=\"https://colab.research.google.com/assets/colab-badge.svg\" alt=\"Open In Colab\"/></a>"
      ]
    },
    {
      "cell_type": "markdown",
      "source": [
        "NAME:AKANKSHA PARASAR\n",
        "\n",
        "PRN:1132210166"
      ],
      "metadata": {
        "id": "u9BXsU88fp1J"
      }
    },
    {
      "cell_type": "markdown",
      "source": [
        "# **Implementing Uninformed Search Algorithms**"
      ],
      "metadata": {
        "id": "mIqQGmnhfEfx"
      }
    },
    {
      "cell_type": "markdown",
      "source": [
        "1.IMPLEMENT BREADTH FIRST SEARCH."
      ],
      "metadata": {
        "id": "msYrc9R6SHNy"
      }
    },
    {
      "cell_type": "code",
      "execution_count": null,
      "metadata": {
        "colab": {
          "base_uri": "https://localhost:8080/"
        },
        "id": "aTM3y-HActsp",
        "outputId": "d4dbe72d-4baa-4f96-ff7c-1d3f09085051"
      },
      "outputs": [
        {
          "output_type": "stream",
          "name": "stdout",
          "text": [
            "Breadth First Search:\n",
            "S\n",
            "H\n",
            "J\n",
            "I\n",
            "K\n"
          ]
        }
      ],
      "source": [
        "graph = {\n",
        "  'S' : ['A','H'],\n",
        "  'A' : ['B', 'C'],\n",
        "  'H' : ['I', 'J'],\n",
        "  'B' : ['D', 'E'],\n",
        "  'C' : ['G'],\n",
        "  'G' : [],\n",
        "  'D' : [],\n",
        "  'E' : [],\n",
        "  'I' : ['K'],\n",
        "  'K' : [],\n",
        "  'J' : []\n",
        "}\n",
        "def BFS(graph, start, goal):\n",
        "    visited = set()\n",
        "    queue = [start]\n",
        "\n",
        "    while queue:\n",
        "        node = queue.pop()\n",
        "        if node not in visited:\n",
        "          print(node)\n",
        "          visited.add(node)\n",
        "\n",
        "          if node == goal:\n",
        "            return\n",
        "\n",
        "        for neighbor in graph[node]:\n",
        "\n",
        "              if neighbor not in visited:\n",
        "                queue.append(neighbor)\n",
        "print('Breadth First Search:')\n",
        "BFS(graph, 'S', 'K')"
      ]
    },
    {
      "cell_type": "markdown",
      "source": [
        ""
      ],
      "metadata": {
        "id": "JYPUzA-3fkFA"
      }
    },
    {
      "cell_type": "markdown",
      "source": [
        "2.IMPLEMENT DPTH FIRST SEARCH."
      ],
      "metadata": {
        "id": "vsz3m1VzSj4I"
      }
    },
    {
      "cell_type": "code",
      "source": [
        "graph = {\n",
        "  'S' : ['A','H'],\n",
        "  'A' : ['B', 'C'],\n",
        "  'H' : ['I', 'J'],\n",
        "  'B' : ['D', 'E'],\n",
        "  'C' : ['G'],\n",
        "  'G' : [],\n",
        "  'D' : [],\n",
        "  'E' : [],\n",
        "  'I' : ['K'],\n",
        "  'K' : [],\n",
        "  'J' : []\n",
        "}\n",
        "\n",
        "visited = set() \n",
        "\n",
        "def dfs(visited, graph, node):   \n",
        "    if node not in visited:\n",
        "        print (node)\n",
        "        visited.add(node)\n",
        "        for neighbour in graph[node]:\n",
        "            dfs(visited, graph, neighbour)\n",
        "\n",
        "print(\"Depth-First Search:\")\n",
        "dfs(visited, graph, 'S')"
      ],
      "metadata": {
        "colab": {
          "base_uri": "https://localhost:8080/"
        },
        "id": "GLQraTPejb_H",
        "outputId": "f8c9c9e9-1fd7-4d88-82bc-db6d78dc1cd8"
      },
      "execution_count": null,
      "outputs": [
        {
          "output_type": "stream",
          "name": "stdout",
          "text": [
            "Depth-First Search:\n",
            "S\n",
            "A\n",
            "B\n",
            "D\n",
            "E\n",
            "C\n",
            "G\n",
            "H\n",
            "I\n",
            "K\n",
            "J\n"
          ]
        }
      ]
    },
    {
      "cell_type": "markdown",
      "source": [
        ""
      ],
      "metadata": {
        "id": "8OqnS4NJfMJW"
      }
    },
    {
      "cell_type": "markdown",
      "source": [
        ""
      ],
      "metadata": {
        "id": "uZQWJzrrfDFv"
      }
    }
  ]
}